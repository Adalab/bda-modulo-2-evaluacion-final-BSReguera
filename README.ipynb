{
 "cells": [
  {
   "cell_type": "markdown",
   "metadata": {},
   "source": [
    "# EVALUACIÓN FINAL - MODULO 2 - SQL \n",
    "\n",
    "\n",
    "¡Bienvenido al repositorio de la Evaluación Final del Módulo 2!\n",
    "\n",
    "## INDICE\n",
    "1. [Descripción](#1-descripción)\n",
    "2. [Contenido](#2-contenido)\n",
    "3. [¿Porqué este repositorio es útil?](#3-utilidad)\n",
    "   \n",
    "\n",
    "Aquí encontrarás la resolución completa de la evaluación final del módulo 2 \"Domina el arte de extraer información valiosa\". Este repositorio está diseñado para proporcionarte una comprensión profunda y práctica de los conceptos fundamentales de SQL.\n",
    "\n",
    "# 1. DESCRIPCIÓN: \n",
    "Este repositorio contiene las soluciones detalladas de los ejercicios de la evaluación final del Módulo 2. Todas las soluciones están implementadas utilizando myworkbench SQL, aprovechando las funcionalidades ofrecidas por myworkbench para una experiencia de desarrollo interactiva y clara.\n",
    "\n",
    "La evaluación final del módulo 2 se centra en evaluar la comprensión y habilidades en el lenguaje de consulta estructurado (SQL), fundamental para extraer y manipular datos almacenados en bases de datos relacionales.\n",
    "\n",
    "La prueba técnica consta de 23 ejercicios obligatorios y 2 ejercicios de bonus sobre las consultas SQL  de la base de datos Sakila, la cual es una base de datos de ejemplo que simula una tienda de alquiler de películas. Contiene tablas como `film` (películas), `actor` (actores), `customer` (clientes), `rental` (alquileres), `category` (categorías), entre otras. Estas tablas contienen información sobre películas, actores, clientes, alquileres y más, y se utilizan para realizar consultas y análisis de datos en el contexto de una tienda de alquiler de películas.\n",
    "\n",
    "Los temas cubiertos en la evaluación final incluyen:\n",
    "- Tipos de consultas SQL: Uso de diferentes tipos de consultas SQL, como consultas SELECT para recuperar datos, consultas INSERT para agregar nuevos registros a una tabla, consultas UPDATE para modificar registros existentes y consultas DELETE para eliminar registros.\n",
    "- Filtrado de datos: Uso de la cláusula WHERE para filtrar los datos según criterios específicos, como valores de columna, rangos numéricos o condiciones lógicas.\n",
    "- Agrupación y resumen de datos: Uso de las funciones de agregación como COUNT, SUM, AVG, MIN y MAX junto con la cláusula GROUP BY para resumir datos y obtener estadísticas sobre conjuntos de datos agrupados.\n",
    "- Subconsultas y combinación de datos: Uso de subconsultas para realizar consultas más complejas y a combinar datos de múltiples tablas utilizando JOINs (INNER JOIN, LEFT JOIN, RIGHT JOIN, FULL JOIN) para obtener información relacionada de varias fuentes.\n",
    "- Identificación de patrones y análisis avanzado: Uso de técnicas avanzadas de consulta, como el uso de operadores LIKE y expresiones regulares para buscar patrones específicos en los datos, así como consultas más complejas para realizar análisis avanzados, como la identificación de tendencias o la detección de anomalías.\n",
    "- Optimización de consultas: Uso de consultas SQL mediante el uso adecuado de índices, la optimización de la lógica de la consulta y la minimización de la duplicación de datos, lo que puede mejorar el rendimiento y la eficiencia de las consultas.\n",
    "  \n",
    "# 2. CONTENIDO: \n",
    "- evaluacion_final/: Contiene la resolución de la evaluación final. Ejercicios abordados en SQL como la realización de consultas y filtrado de datos, agrupación y resumen de datos, subconsultas y combinación de datos, identificación de patrones y analisis avanzado y la optimización de consultas.\n",
    "- evaluacion_final-explicacion/: Contiene la resolución de la evaluación final con la explicación y el paso a paso de los ejercicios.\n",
    "\n",
    "# 3. ¿PORQUÉ ESTE REPOSITORIO ES ÚTIL?: \n",
    "- Práctica Profunda: Las soluciones proporcionadas permiten practicar y reforzar los conceptos fundamentales de SQL aprendidos en el módulo 2.\n",
    "- Referencia Clara: Cada solución está realizada de forma clara y detallada, lo que ayuda a comprender cómo y por qué se implementa cierto enfoque.\n",
    "\n",
    "\n",
    "\n",
    "## ¡Explora las soluciones y sigue desarrollando tus habilidades!\n",
    "\n",
    "\n",
    "\n",
    "Realizado por: Beatriz Sánchez Reguera - GitHub:BSReguera"
   ]
  }
 ],
 "metadata": {
  "language_info": {
   "name": "python"
  }
 },
 "nbformat": 4,
 "nbformat_minor": 2
}
